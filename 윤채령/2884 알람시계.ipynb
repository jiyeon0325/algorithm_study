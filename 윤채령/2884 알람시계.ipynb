{
 "cells": [
  {
   "cell_type": "code",
   "execution_count": 6,
   "id": "e0542594",
   "metadata": {},
   "outputs": [
    {
     "name": "stdout",
     "output_type": "stream",
     "text": [
      "0 0\n",
      "23 15\n"
     ]
    }
   ],
   "source": [
    "Hour, Minute = map(int,input().split())\n",
    "#map 함수 사용법 제대로 숙지하기\n",
    "if Minute < 45 :\n",
    "    if Hour == 0:\n",
    "        print( 23, Minute + 15)\n",
    "    else:\n",
    "        print(Hour - 1, Minute + 15)\n",
    "else:\n",
    "    print(Hour, Minute - 45)"
   ]
  },
  {
   "cell_type": "code",
   "execution_count": null,
   "id": "912b2e5e",
   "metadata": {},
   "outputs": [],
   "source": []
  }
 ],
 "metadata": {
  "kernelspec": {
   "display_name": "Python 3 (ipykernel)",
   "language": "python",
   "name": "python3"
  },
  "language_info": {
   "codemirror_mode": {
    "name": "ipython",
    "version": 3
   },
   "file_extension": ".py",
   "mimetype": "text/x-python",
   "name": "python",
   "nbconvert_exporter": "python",
   "pygments_lexer": "ipython3",
   "version": "3.9.12"
  }
 },
 "nbformat": 4,
 "nbformat_minor": 5
}
