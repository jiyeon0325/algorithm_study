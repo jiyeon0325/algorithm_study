{
 "cells": [
  {
   "cell_type": "markdown",
   "id": "ed7f47ee",
   "metadata": {},
   "source": [
    "https://www.acmicpc.net/problem/4344"
   ]
  },
  {
   "cell_type": "code",
   "execution_count": 3,
   "id": "cb8ddaa8",
   "metadata": {
    "scrolled": true
   },
   "outputs": [
    {
     "name": "stdout",
     "output_type": "stream",
     "text": [
      "2\n",
      "5 50 50 70 80 100\n",
      "40.000%\n",
      "7 100 95 90 80 70 60 50\n",
      "57.143%\n"
     ]
    }
   ],
   "source": [
    "n = int(input())\n",
    "\n",
    "for i in range (n):\n",
    "    num = list(map(int,input().split()))\n",
    "    avg = sum(num[1:])/num[0]\n",
    "    count = 0\n",
    "    for j in num:\n",
    "        if j > avg:\n",
    "            count += 1\n",
    "    percentage = (count/num[0])*100\n",
    "    print('%.3f'%percentage+ '%')"
   ]
  },
  {
   "cell_type": "code",
   "execution_count": null,
   "id": "84fab779",
   "metadata": {},
   "outputs": [],
   "source": []
  }
 ],
 "metadata": {
  "kernelspec": {
   "display_name": "Python 3 (ipykernel)",
   "language": "python",
   "name": "python3"
  },
  "language_info": {
   "codemirror_mode": {
    "name": "ipython",
    "version": 3
   },
   "file_extension": ".py",
   "mimetype": "text/x-python",
   "name": "python",
   "nbconvert_exporter": "python",
   "pygments_lexer": "ipython3",
   "version": "3.9.12"
  }
 },
 "nbformat": 4,
 "nbformat_minor": 5
}
