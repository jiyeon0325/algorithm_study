{
 "cells": [
  {
   "cell_type": "code",
   "execution_count": 1,
   "id": "c64d789a",
   "metadata": {},
   "outputs": [
    {
     "name": "stdout",
     "output_type": "stream",
     "text": [
      "150\n",
      "259\n",
      "845\n",
      "1\n",
      "0\n",
      "3\n",
      "1\n",
      "0\n",
      "1\n",
      "0\n",
      "0\n",
      "2\n",
      "0\n"
     ]
    }
   ],
   "source": [
    "a = int(input())\n",
    "b = int(input())\n",
    "c = int(input())\n",
    "lst = []\n",
    "zero=0; one=0; two=0; three=0; four=0; five=0; six=0; seven=0; eight=0; nine=0\n",
    "if a >= 100 & a < 1000 & b >= 100 & b < 1000 & c >= 100 & c < 1000 :\n",
    "    number = a*b*c\n",
    "    number = str(number)\n",
    "    for i in number:\n",
    "        if i == '1':\n",
    "            one += 1\n",
    "        elif i == '2':\n",
    "            two += 1\n",
    "        elif i == '3':\n",
    "            three += 1\n",
    "        elif i == '4':\n",
    "            four += 1\n",
    "        elif i == '5':\n",
    "            five += 1\n",
    "        elif i == '6':\n",
    "            six += 1\n",
    "        elif i == '7':\n",
    "            seven += 1\n",
    "        elif i == '8':\n",
    "            eight += 1\n",
    "        elif i == '9':\n",
    "            nine += 1\n",
    "        elif i == '0':\n",
    "            zero += 1 \n",
    "        else:\n",
    "            pass\n",
    "print(zero)\n",
    "print(one)\n",
    "print(two)\n",
    "print(three)\n",
    "print(four)\n",
    "print(five)\n",
    "print(six)\n",
    "print(seven)\n",
    "print(eight)\n",
    "print(nine)"
   ]
  },
  {
   "cell_type": "code",
   "execution_count": null,
   "id": "b05db78c",
   "metadata": {},
   "outputs": [],
   "source": []
  }
 ],
 "metadata": {
  "kernelspec": {
   "display_name": "Python 3 (ipykernel)",
   "language": "python",
   "name": "python3"
  },
  "language_info": {
   "codemirror_mode": {
    "name": "ipython",
    "version": 3
   },
   "file_extension": ".py",
   "mimetype": "text/x-python",
   "name": "python",
   "nbconvert_exporter": "python",
   "pygments_lexer": "ipython3",
   "version": "3.9.12"
  }
 },
 "nbformat": 4,
 "nbformat_minor": 5
}
