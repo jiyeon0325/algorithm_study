{
 "cells": [
  {
   "cell_type": "code",
   "execution_count": 28,
   "id": "e5fc3f31",
   "metadata": {},
   "outputs": [
    {
     "name": "stdout",
     "output_type": "stream",
     "text": [
      "1\n",
      "2\n",
      "3\n",
      "4\n",
      "5\n",
      "6\n",
      "7\n",
      "8\n",
      "9\n",
      "10\n",
      "10\n"
     ]
    }
   ],
   "source": [
    "l = []\n",
    "l1 = []\n",
    "for i in range(0, 10):\n",
    "    number = int(input())\n",
    "    l1.append(number)\n",
    "for i in l1:\n",
    "    od = i%42\n",
    "    if od not in l:\n",
    "        l.append(od)\n",
    "    else:\n",
    "        pass\n",
    "print(len(l))"
   ]
  },
  {
   "cell_type": "code",
   "execution_count": null,
   "id": "1d831528",
   "metadata": {},
   "outputs": [],
   "source": []
  }
 ],
 "metadata": {
  "kernelspec": {
   "display_name": "Python 3 (ipykernel)",
   "language": "python",
   "name": "python3"
  },
  "language_info": {
   "codemirror_mode": {
    "name": "ipython",
    "version": 3
   },
   "file_extension": ".py",
   "mimetype": "text/x-python",
   "name": "python",
   "nbconvert_exporter": "python",
   "pygments_lexer": "ipython3",
   "version": "3.9.12"
  }
 },
 "nbformat": 4,
 "nbformat_minor": 5
}
