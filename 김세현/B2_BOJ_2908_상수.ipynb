{
 "cells": [
  {
   "cell_type": "code",
   "execution_count": 1,
   "id": "93b775fa",
   "metadata": {},
   "outputs": [
    {
     "name": "stdout",
     "output_type": "stream",
     "text": [
      "734 598\n",
      "895\n"
     ]
    }
   ],
   "source": [
    "a = input().split()\n",
    "if a[0][::-1] > a[1][::-1]:\n",
    "    print(a[0][::-1])\n",
    "else:\n",
    "    print(a[1][::-1])"
   ]
  },
  {
   "cell_type": "code",
   "execution_count": null,
   "id": "043bd37d",
   "metadata": {},
   "outputs": [],
   "source": []
  }
 ],
 "metadata": {
  "kernelspec": {
   "display_name": "Python 3 (ipykernel)",
   "language": "python",
   "name": "python3"
  },
  "language_info": {
   "codemirror_mode": {
    "name": "ipython",
    "version": 3
   },
   "file_extension": ".py",
   "mimetype": "text/x-python",
   "name": "python",
   "nbconvert_exporter": "python",
   "pygments_lexer": "ipython3",
   "version": "3.9.12"
  }
 },
 "nbformat": 4,
 "nbformat_minor": 5
}
