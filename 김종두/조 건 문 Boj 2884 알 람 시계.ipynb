{
 "cells": [
  {
   "cell_type": "code",
   "execution_count": 1,
   "id": "423a51c0",
   "metadata": {},
   "outputs": [
    {
     "name": "stdout",
     "output_type": "stream",
     "text": [
      "시간과 분을 입력하세요: 11 20\n",
      "10 시 35 분 입니다.\n"
     ]
    }
   ],
   "source": [
    "integers= input(\"시간과 분을 입력하세요: \")\n",
    "integers=integers.split(\" \")\n",
    "\n",
    "a, b =map(int,integers)\n",
    "\n",
    "\n",
    "if (b-45)<0:\n",
    "    b=b+15           # 60분과 45분 차\n",
    "    a=a-1\n",
    "\n",
    "    if (a<0):\n",
    "         a=23\n",
    "else:\n",
    "    b=b-45\n",
    "print(\"%d 시 %d 분 입니다.\" %(a,b))"
   ]
  },
  {
   "cell_type": "markdown",
   "id": "bbe3432f",
   "metadata": {},
   "source": []
  }
 ],
 "metadata": {
  "kernelspec": {
   "display_name": "Python 3 (ipykernel)",
   "language": "python",
   "name": "python3"
  },
  "language_info": {
   "codemirror_mode": {
    "name": "ipython",
    "version": 3
   },
   "file_extension": ".py",
   "mimetype": "text/x-python",
   "name": "python",
   "nbconvert_exporter": "python",
   "pygments_lexer": "ipython3",
   "version": "3.9.12"
  }
 },
 "nbformat": 4,
 "nbformat_minor": 5
}
