{
 "cells": [
  {
   "cell_type": "code",
   "execution_count": 24,
   "id": "0547a47a",
   "metadata": {},
   "outputs": [
    {
     "name": "stdout",
     "output_type": "stream",
     "text": [
      "정수를 입력하시오: 0 30\n",
      "23 45\n"
     ]
    }
   ],
   "source": [
    "# 2884번\n",
    "\n",
    "word = input(\"정수를 입력하시오: \")\n",
    "H, M = word.split(\" \")\n",
    "\n",
    "if int(M) >= 45 :\n",
    "    print(H, 60 - int(M))\n",
    "elif int(M) < 45 & int(H) > 0 :\n",
    "    print(int(H)-1, int(M) + 15)\n",
    "else :\n",
    "    print(23, int(M) + 15)"
   ]
  }
 ],
 "metadata": {
  "kernelspec": {
   "display_name": "Python 3 (ipykernel)",
   "language": "python",
   "name": "python3"
  },
  "language_info": {
   "codemirror_mode": {
    "name": "ipython",
    "version": 3
   },
   "file_extension": ".py",
   "mimetype": "text/x-python",
   "name": "python",
   "nbconvert_exporter": "python",
   "pygments_lexer": "ipython3",
   "version": "3.9.12"
  }
 },
 "nbformat": 4,
 "nbformat_minor": 5
}
